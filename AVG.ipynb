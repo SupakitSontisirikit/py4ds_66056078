{
 "cells": [
  {
   "cell_type": "code",
   "execution_count": 2,
   "id": "initial_id",
   "metadata": {
    "collapsed": true,
    "ExecuteTime": {
     "end_time": "2023-10-01T05:29:22.481707700Z",
     "start_time": "2023-10-01T05:29:22.434209400Z"
    }
   },
   "outputs": [
    {
     "name": "stdout",
     "output_type": "stream",
     "text": [
      "True\n",
      "True\n",
      "True\n",
      "True\n"
     ]
    }
   ],
   "source": [
    "def average(list):\n",
    "    x = 0\n",
    "    if list.__len__() == 0:\n",
    "        return 0\n",
    "    else:\n",
    "        for i in list:\n",
    "            x = x + i\n",
    "        y = x / len(list)\n",
    "        return y\n",
    "    \n",
    "if __name__ == '__main__':\n",
    "    print(average([1,2,3]) == 2)\n",
    "    print(average([1,2,3,1,2,3,1,2,3])== 2)\n",
    "    print(average([12,20,37]) == 23)\n",
    "    print(average([0,0,0,0,0]) == 0)"
   ]
  }
 ],
 "metadata": {
  "kernelspec": {
   "display_name": "Python 3",
   "language": "python",
   "name": "python3"
  },
  "language_info": {
   "codemirror_mode": {
    "name": "ipython",
    "version": 2
   },
   "file_extension": ".py",
   "mimetype": "text/x-python",
   "name": "python",
   "nbconvert_exporter": "python",
   "pygments_lexer": "ipython2",
   "version": "2.7.6"
  }
 },
 "nbformat": 4,
 "nbformat_minor": 5
}
