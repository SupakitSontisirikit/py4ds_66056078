{
 "cells": [
  {
   "cell_type": "code",
   "execution_count": 2,
   "id": "initial_id",
   "metadata": {
    "collapsed": true,
    "ExecuteTime": {
     "end_time": "2023-10-01T04:48:03.435040200Z",
     "start_time": "2023-10-01T04:48:03.420859500Z"
    }
   },
   "outputs": [
    {
     "name": "stdout",
     "output_type": "stream",
     "text": [
      "6\n",
      "0\n"
     ]
    }
   ],
   "source": [
    "n = [2,6,7,5,4,9]\n",
    "print(len(n))\n",
    "w = []\n",
    "print(len(w))"
   ]
  },
  {
   "cell_type": "code",
   "execution_count": 13,
   "outputs": [
    {
     "name": "stdout",
     "output_type": "stream",
     "text": [
      "True\n",
      "True\n"
     ]
    }
   ],
   "source": [
    "def calculateSum(list):\n",
    "    x = 0\n",
    "    if list.__len__() == 0:\n",
    "        return 0\n",
    "    else:\n",
    "        for i in list:\n",
    "            x = x + i\n",
    "        return x\n",
    "\n",
    "if __name__ == '__main__':\n",
    "    print(calculateSum([]) == 0)\n",
    "    print(calculateSum([2,4,6,8,10]) == 30)\n",
    "    "
   ],
   "metadata": {
    "collapsed": false,
    "ExecuteTime": {
     "end_time": "2023-10-01T05:03:24.211371Z",
     "start_time": "2023-10-01T05:03:24.207862900Z"
    }
   },
   "id": "200aea6502915ca6"
  },
  {
   "cell_type": "code",
   "execution_count": 9,
   "outputs": [
    {
     "data": {
      "text/plain": "58"
     },
     "execution_count": 9,
     "metadata": {},
     "output_type": "execute_result"
    }
   ],
   "source": [
    "l = [0,8,9,8,9,8,7,3,4,2]\n",
    "calculateSum(l)"
   ],
   "metadata": {
    "collapsed": false,
    "ExecuteTime": {
     "end_time": "2023-10-01T05:02:03.994326600Z",
     "start_time": "2023-10-01T05:02:03.932044900Z"
    }
   },
   "id": "8575219924c3f271"
  }
 ],
 "metadata": {
  "kernelspec": {
   "display_name": "Python 3",
   "language": "python",
   "name": "python3"
  },
  "language_info": {
   "codemirror_mode": {
    "name": "ipython",
    "version": 2
   },
   "file_extension": ".py",
   "mimetype": "text/x-python",
   "name": "python",
   "nbconvert_exporter": "python",
   "pygments_lexer": "ipython2",
   "version": "2.7.6"
  }
 },
 "nbformat": 4,
 "nbformat_minor": 5
}
